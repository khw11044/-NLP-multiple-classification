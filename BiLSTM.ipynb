{
 "cells": [
  {
   "cell_type": "code",
   "execution_count": 96,
   "source": [
    "import pandas as pd\n",
    "import numpy as np\n",
    "import matplotlib.pyplot as plt\n",
    "import urllib.request\n",
    "from collections import Counter\n",
    "from konlpy.tag import Mecab\n",
    "from sklearn.model_selection import train_test_split\n",
    "from tensorflow.keras.preprocessing.text import Tokenizer\n",
    "from tensorflow.keras.preprocessing.sequence import pad_sequences"
   ],
   "outputs": [],
   "metadata": {}
  },
  {
   "cell_type": "code",
   "execution_count": 97,
   "source": [
    "card_data = pd.read_csv('대분류.csv')\n",
    "print('훈련용 리뷰 개수 :',len(card_data)) # 훈련용 리뷰 개수 출력\n",
    "card_data.head()"
   ],
   "outputs": [
    {
     "output_type": "stream",
     "name": "stdout",
     "text": [
      "훈련용 리뷰 개수 : 1000\n"
     ]
    },
    {
     "output_type": "execute_result",
     "data": {
      "text/plain": [
       "                    발화 대분류\n",
       "0     상담직원과 빠른연결했슴좋겠어요  불만\n",
       "1    안기다리고. 빨리상담되었음좋겠다  불만\n",
       "2   너무 오래기다리고 상담이 늦어져요  불만\n",
       "3  상담직원과  통화가  매우  힘들다  불만\n",
       "4     상담받으려면오래기다리는게불편함  불만"
      ],
      "text/html": [
       "<div>\n",
       "<style scoped>\n",
       "    .dataframe tbody tr th:only-of-type {\n",
       "        vertical-align: middle;\n",
       "    }\n",
       "\n",
       "    .dataframe tbody tr th {\n",
       "        vertical-align: top;\n",
       "    }\n",
       "\n",
       "    .dataframe thead th {\n",
       "        text-align: right;\n",
       "    }\n",
       "</style>\n",
       "<table border=\"1\" class=\"dataframe\">\n",
       "  <thead>\n",
       "    <tr style=\"text-align: right;\">\n",
       "      <th></th>\n",
       "      <th>발화</th>\n",
       "      <th>대분류</th>\n",
       "    </tr>\n",
       "  </thead>\n",
       "  <tbody>\n",
       "    <tr>\n",
       "      <th>0</th>\n",
       "      <td>상담직원과 빠른연결했슴좋겠어요</td>\n",
       "      <td>불만</td>\n",
       "    </tr>\n",
       "    <tr>\n",
       "      <th>1</th>\n",
       "      <td>안기다리고. 빨리상담되었음좋겠다</td>\n",
       "      <td>불만</td>\n",
       "    </tr>\n",
       "    <tr>\n",
       "      <th>2</th>\n",
       "      <td>너무 오래기다리고 상담이 늦어져요</td>\n",
       "      <td>불만</td>\n",
       "    </tr>\n",
       "    <tr>\n",
       "      <th>3</th>\n",
       "      <td>상담직원과  통화가  매우  힘들다</td>\n",
       "      <td>불만</td>\n",
       "    </tr>\n",
       "    <tr>\n",
       "      <th>4</th>\n",
       "      <td>상담받으려면오래기다리는게불편함</td>\n",
       "      <td>불만</td>\n",
       "    </tr>\n",
       "  </tbody>\n",
       "</table>\n",
       "</div>"
      ]
     },
     "metadata": {},
     "execution_count": 97
    }
   ],
   "metadata": {}
  },
  {
   "cell_type": "code",
   "execution_count": 98,
   "source": [
    "card_data['대분류'] = card_data['대분류'].replace('칭찬',0)\n",
    "card_data['대분류'] = card_data['대분류'].replace('불만',1)\n",
    "card_data['대분류'] = card_data['대분류'].replace('중립',2)\n",
    "df_new = card_data.rename(columns={'발화': 'context','대분류': 'label'})\n",
    "# Null 값 유무\n",
    "print(df_new.isnull().values.any())\n",
    "\n",
    "\n",
    "# 중립은 버리기\n",
    "dfdrop = df_new[df_new['label'] == 2].index\n",
    "df_new = df_new.drop(dfdrop)\n",
    "\n",
    "train_data, test_data = train_test_split(df_new, test_size = 0.25, random_state = 42)\n",
    "print('훈련용 리뷰의 개수 :', len(train_data))\n",
    "print('테스트용 리뷰의 개수 :', len(test_data))\n"
   ],
   "outputs": [
    {
     "output_type": "stream",
     "name": "stdout",
     "text": [
      "False\n",
      "훈련용 리뷰의 개수 : 744\n",
      "테스트용 리뷰의 개수 : 249\n"
     ]
    }
   ],
   "metadata": {}
  },
  {
   "cell_type": "code",
   "execution_count": 99,
   "source": [
    "train_data['label'].value_counts().plot(kind = 'bar')\n",
    "print(train_data.groupby('label').size().reset_index(name = 'count'))"
   ],
   "outputs": [
    {
     "output_type": "stream",
     "name": "stdout",
     "text": [
      "   label  count\n",
      "0      0    354\n",
      "1      1    390\n"
     ]
    },
    {
     "output_type": "display_data",
     "data": {
      "text/plain": [
       "<Figure size 432x288 with 1 Axes>"
      ],
      "image/png": "[encoded data removed]"
     },
     "metadata": {
      "needs_background": "light"
     }
    }
   ],
   "metadata": {}
  },
  {
   "cell_type": "code",
   "execution_count": 100,
   "source": [
    "print(train_data.groupby('label').size().reset_index(name = 'count'))"
   ],
   "outputs": [
    {
     "output_type": "stream",
     "name": "stdout",
     "text": [
      "   label  count\n",
      "0      0    354\n",
      "1      1    390\n"
     ]
    }
   ],
   "metadata": {}
  },
  {
   "cell_type": "code",
   "execution_count": 101,
   "source": [
    "# 데이터 정제하기 \n",
    "\n",
    "# 한글과 공백을 제외하고 모두 제거\n",
    "train_data['context'] = train_data['context'].str.replace(\"[^ㄱ-ㅎㅏ-ㅣ가-힣 ]\",\"\")\n",
    "train_data['context'].replace('', np.nan, inplace=True)\n",
    "print(train_data.isnull().sum())\n",
    "print('전처리 후 학습용 샘플의 개수 :',len(train_data))\n",
    "\n",
    "test_data.drop_duplicates(subset = ['context'], inplace=True) # 중복 제거\n",
    "test_data['context'] = test_data['context'].str.replace(\"[^ㄱ-ㅎㅏ-ㅣ가-힣 ]\",\"\") # 정규 표현식 수행\n",
    "test_data['context'].replace('', np.nan, inplace=True) # 공백은 Null 값으로 변경\n",
    "test_data = test_data.dropna(how='any') # Null 값 제거\n",
    "print('전처리 후 테스트용 샘플의 개수 :',len(test_data))"
   ],
   "outputs": [
    {
     "output_type": "stream",
     "name": "stdout",
     "text": [
      "context    0\n",
      "label      0\n",
      "dtype: int64\n",
      "전처리 후 학습용 샘플의 개수 : 744\n",
      "전처리 후 테스트용 샘플의 개수 : 249\n"
     ]
    },
    {
     "output_type": "stream",
     "name": "stderr",
     "text": [
      "<ipython-input-101-4d89620dc847>:4: FutureWarning: The default value of regex will change from True to False in a future version.\n",
      "  train_data['context'] = train_data['context'].str.replace(\"[^ㄱ-ㅎㅏ-ㅣ가-힣 ]\",\"\")\n",
      "/home/khw/anaconda3/envs/nlp/lib/python3.9/site-packages/pandas/core/frame.py:3607: SettingWithCopyWarning: \n",
      "A value is trying to be set on a copy of a slice from a DataFrame.\n",
      "Try using .loc[row_indexer,col_indexer] = value instead\n",
      "\n",
      "See the caveats in the documentation: https://pandas.pydata.org/pandas-docs/stable/user_guide/indexing.html#returning-a-view-versus-a-copy\n",
      "  self._set_item(key, value)\n",
      "/home/khw/anaconda3/envs/nlp/lib/python3.9/site-packages/pandas/core/generic.py:6610: SettingWithCopyWarning: \n",
      "A value is trying to be set on a copy of a slice from a DataFrame\n",
      "\n",
      "See the caveats in the documentation: https://pandas.pydata.org/pandas-docs/stable/user_guide/indexing.html#returning-a-view-versus-a-copy\n",
      "  return self._update_inplace(result)\n",
      "/home/khw/anaconda3/envs/nlp/lib/python3.9/site-packages/pandas/util/_decorators.py:311: SettingWithCopyWarning: \n",
      "A value is trying to be set on a copy of a slice from a DataFrame\n",
      "\n",
      "See the caveats in the documentation: https://pandas.pydata.org/pandas-docs/stable/user_guide/indexing.html#returning-a-view-versus-a-copy\n",
      "  return func(*args, **kwargs)\n",
      "<ipython-input-101-4d89620dc847>:10: FutureWarning: The default value of regex will change from True to False in a future version.\n",
      "  test_data['context'] = test_data['context'].str.replace(\"[^ㄱ-ㅎㅏ-ㅣ가-힣 ]\",\"\") # 정규 표현식 수행\n"
     ]
    }
   ],
   "metadata": {}
  },
  {
   "cell_type": "code",
   "execution_count": 102,
   "source": [
    "# 토큰화\n",
    "mecab = Mecab()\n",
    "print(mecab.morphs('와 이런 것도 상품이라고 차라리 내가 만드는 게 나을 뻔'))\n",
    "\n",
    "# 불용어 지정\n",
    "# stopwords = ['도', '는', '다', '의', '가', '이', '은', '한', '에', '하', '고', '을', '를', '인', '듯', '과', '와', '네', '들', '듯', '지', '임', '게']\n",
    "stopwords = ['의','가','이','은','들','는','좀','잘','걍','과','도','를','으로','자','에','와','한','하다']"
   ],
   "outputs": [
    {
     "output_type": "stream",
     "name": "stdout",
     "text": [
      "['와', '이런', '것', '도', '상품', '이', '라고', '차라리', '내', '가', '만드', '는', '게', '나을', '뻔']\n"
     ]
    }
   ],
   "metadata": {}
  },
  {
   "cell_type": "code",
   "execution_count": 103,
   "source": [
    "train_data['tokenized'] = train_data['context'].apply(mecab.morphs)\n",
    "train_data['tokenized'] = train_data['tokenized'].apply(lambda x: [item for item in x if item not in stopwords])\n",
    "\n",
    "test_data['tokenized'] = test_data['context'].apply(mecab.morphs)\n",
    "test_data['tokenized'] = test_data['tokenized'].apply(lambda x: [item for item in x if item not in stopwords])"
   ],
   "outputs": [],
   "metadata": {}
  },
  {
   "cell_type": "code",
   "execution_count": 104,
   "source": [
    "negative_words = np.hstack(train_data[train_data.label == 1]['tokenized'].values)\n",
    "positive_words = np.hstack(train_data[train_data.label == 0]['tokenized'].values)\n",
    "\n",
    "negative_word_count = Counter(negative_words)\n",
    "print(negative_word_count.most_common(50))"
   ],
   "outputs": [
    {
     "output_type": "stream",
     "name": "stdout",
     "text": [
      "[('하', 219), ('상담', 133), ('연결', 98), ('게', 88), ('을', 87), ('상담원', 83), ('고', 79), ('너무', 78), ('좋', 71), ('통화', 67), ('다', 67), ('시간', 63), ('되', 61), ('친절', 60), ('으면', 54), ('화면', 54), ('겠', 53), ('습니다', 52), ('음', 50), ('길', 45), ('주', 44), ('합니다', 43), ('직원', 42), ('지', 40), ('해', 40), ('대기', 39), ('었', 38), ('있', 38), ('함', 37), ('기', 37), ('불편', 34), ('할', 33), ('고객', 32), ('면', 31), ('로', 30), ('전화', 30), ('시', 30), ('것', 30), ('연회비', 29), ('없', 28), ('더', 27), ('보이', 26), ('안', 25), ('터치', 25), ('사', 24), ('했', 24), ('많', 23), ('않', 23), ('정확', 23), ('어요', 22)]\n"
     ]
    }
   ],
   "metadata": {}
  },
  {
   "cell_type": "code",
   "execution_count": 105,
   "source": [
    "positive_word_count = Counter(positive_words)\n",
    "print(positive_word_count.most_common(50))"
   ],
   "outputs": [
    {
     "output_type": "stream",
     "name": "stdout",
     "text": [
      "[('친절', 252), ('감사', 252), ('하', 187), ('상담', 180), ('합니다', 161), ('주', 94), ('게', 88), ('해', 83), ('고', 70), ('셔서', 52), ('습니다', 44), ('을', 44), ('좋', 33), ('드립니다', 31), ('카드', 26), ('시', 26), ('있', 26), ('했', 25), ('너무', 24), ('해서', 20), ('사', 19), ('함', 19), ('상담원', 18), ('고객', 18), ('다', 18), ('직원', 18), ('분', 16), ('되', 16), ('전화', 16), ('네요', 15), ('어', 15), ('다른', 14), ('었', 14), ('서비스', 14), ('받', 13), ('설명', 12), ('는데', 11), ('았', 11), ('까지', 11), ('어요', 10), ('회사', 10), ('요', 10), ('셨', 9), ('신속', 9), ('음', 9), ('것', 9), ('니', 9), ('때', 9), ('연결', 9), ('적', 9)]\n"
     ]
    }
   ],
   "metadata": {}
  },
  {
   "cell_type": "code",
   "execution_count": 106,
   "source": [
    "fig,(ax1,ax2) = plt.subplots(1,2,figsize=(10,5))\n",
    "text_len = train_data[train_data['label']==0]['tokenized'].map(lambda x: len(x))\n",
    "ax1.hist(text_len, color='red')\n",
    "ax1.set_title('Positive Reviews')\n",
    "ax1.set_xlabel('length of samples')\n",
    "ax1.set_ylabel('number of samples')\n",
    "print('긍정 리뷰의 평균 길이 :', np.mean(text_len))\n",
    "\n",
    "text_len = train_data[train_data['label']==1]['tokenized'].map(lambda x: len(x))\n",
    "ax2.hist(text_len, color='blue')\n",
    "ax2.set_title('Negative Reviews')\n",
    "fig.suptitle('Words in texts')\n",
    "ax2.set_xlabel('length of samples')\n",
    "ax2.set_ylabel('number of samples')\n",
    "print('부정 리뷰의 평균 길이 :', np.mean(text_len))\n",
    "plt.show()"
   ],
   "outputs": [
    {
     "output_type": "stream",
     "name": "stdout",
     "text": [
      "긍정 리뷰의 평균 길이 : 8.96045197740113\n",
      "부정 리뷰의 평균 길이 : 12.325641025641026\n"
     ]
    },
    {
     "output_type": "display_data",
     "data": {
      "text/plain": [
       "<Figure size 720x360 with 2 Axes>"
      ],
      "image/png": "[encoded data removed]"
     },
     "metadata": {
      "needs_background": "light"
     }
    }
   ],
   "metadata": {}
  },
  {
   "cell_type": "code",
   "execution_count": 107,
   "source": [
    "X_train = train_data['tokenized'].values\n",
    "y_train = train_data['label'].values\n",
    "X_test= test_data['tokenized'].values\n",
    "y_test = test_data['label'].values"
   ],
   "outputs": [],
   "metadata": {}
  },
  {
   "cell_type": "code",
   "execution_count": 108,
   "source": [
    "# 정수 인코딩\n",
    "tokenizer = Tokenizer()\n",
    "tokenizer.fit_on_texts(X_train)"
   ],
   "outputs": [],
   "metadata": {}
  },
  {
   "cell_type": "code",
   "execution_count": 109,
   "source": [
    "threshold = 2\n",
    "total_cnt = len(tokenizer.word_index) # 단어의 수\n",
    "rare_cnt = 0 # 등장 빈도수가 threshold보다 작은 단어의 개수를 카운트\n",
    "total_freq = 0 # 훈련 데이터의 전체 단어 빈도수 총 합\n",
    "rare_freq = 0 # 등장 빈도수가 threshold보다 작은 단어의 등장 빈도수의 총 합\n",
    "\n",
    "# 단어와 빈도수의 쌍(pair)을 key와 value로 받는다.\n",
    "for key, value in tokenizer.word_counts.items():\n",
    "    total_freq = total_freq + value\n",
    "\n",
    "    # 단어의 등장 빈도수가 threshold보다 작으면\n",
    "    if(value < threshold):\n",
    "        rare_cnt = rare_cnt + 1\n",
    "        rare_freq = rare_freq + value\n",
    "\n",
    "print('단어 집합(vocabulary)의 크기 :',total_cnt)\n",
    "print('등장 빈도가 %s번 이하인 희귀 단어의 수: %s'%(threshold - 1, rare_cnt))\n",
    "print(\"단어 집합에서 희귀 단어의 비율:\", (rare_cnt / total_cnt)*100)\n",
    "print(\"전체 등장 빈도에서 희귀 단어 등장 빈도 비율:\", (rare_freq / total_freq)*100)"
   ],
   "outputs": [
    {
     "output_type": "stream",
     "name": "stdout",
     "text": [
      "단어 집합(vocabulary)의 크기 : 1200\n",
      "등장 빈도가 1번 이하인 희귀 단어의 수: 664\n",
      "단어 집합에서 희귀 단어의 비율: 55.333333333333336\n",
      "전체 등장 빈도에서 희귀 단어 등장 빈도 비율: 8.32184484271212\n"
     ]
    }
   ],
   "metadata": {}
  },
  {
   "cell_type": "code",
   "execution_count": 110,
   "source": [
    "# 전체 단어 개수 중 빈도수 2이하인 단어 개수는 제거.\n",
    "# 0번 패딩 토큰과 1번 OOV 토큰을 고려하여 +2\n",
    "vocab_size = total_cnt - rare_cnt + 2\n",
    "print('단어 집합의 크기 :',vocab_size)"
   ],
   "outputs": [
    {
     "output_type": "stream",
     "name": "stdout",
     "text": [
      "단어 집합의 크기 : 538\n"
     ]
    }
   ],
   "metadata": {}
  },
  {
   "cell_type": "code",
   "execution_count": 111,
   "source": [
    "tokenizer = Tokenizer(vocab_size, oov_token = 'OOV') \n",
    "tokenizer.fit_on_texts(X_train)\n",
    "X_train = tokenizer.texts_to_sequences(X_train)\n",
    "X_test = tokenizer.texts_to_sequences(X_test)"
   ],
   "outputs": [],
   "metadata": {}
  },
  {
   "cell_type": "code",
   "execution_count": 112,
   "source": [
    "# 패딩\n",
    "print('리뷰의 최대 길이 :',max(len(l) for l in X_train))\n",
    "print('리뷰의 평균 길이 :',sum(map(len, X_train))/len(X_train))\n",
    "plt.hist([len(s) for s in X_train], bins=50)\n",
    "plt.xlabel('length of samples')\n",
    "plt.ylabel('number of samples')\n",
    "plt.show()"
   ],
   "outputs": [
    {
     "output_type": "stream",
     "name": "stdout",
     "text": [
      "리뷰의 최대 길이 : 88\n",
      "리뷰의 평균 길이 : 10.724462365591398\n"
     ]
    },
    {
     "output_type": "display_data",
     "data": {
      "text/plain": [
       "<Figure size 432x288 with 1 Axes>"
      ],
      "image/png": "[encoded data removed]"
     },
     "metadata": {
      "needs_background": "light"
     }
    }
   ],
   "metadata": {}
  },
  {
   "cell_type": "code",
   "execution_count": 113,
   "source": [
    "def below_threshold_len(max_len, nested_list):\n",
    "  cnt = 0\n",
    "  for s in nested_list:\n",
    "    if(len(s) <= max_len):\n",
    "        cnt = cnt + 1\n",
    "  print('전체 샘플 중 길이가 %s 이하인 샘플의 비율: %s'%(max_len, (cnt / len(nested_list))*100))"
   ],
   "outputs": [],
   "metadata": {}
  },
  {
   "cell_type": "code",
   "execution_count": 114,
   "source": [
    "max_len = 80\n",
    "below_threshold_len(max_len, X_train)"
   ],
   "outputs": [
    {
     "output_type": "stream",
     "name": "stdout",
     "text": [
      "전체 샘플 중 길이가 80 이하인 샘플의 비율: 99.73118279569893\n"
     ]
    }
   ],
   "metadata": {}
  },
  {
   "cell_type": "code",
   "execution_count": 115,
   "source": [
    "X_train = pad_sequences(X_train, maxlen = max_len)\n",
    "X_test = pad_sequences(X_test, maxlen = max_len)"
   ],
   "outputs": [],
   "metadata": {}
  },
  {
   "cell_type": "code",
   "execution_count": 116,
   "source": [
    "# BiLSTM"
   ],
   "outputs": [],
   "metadata": {}
  },
  {
   "cell_type": "code",
   "execution_count": 117,
   "source": [
    "import re\n",
    "from tensorflow.keras.layers import Embedding, Dense, LSTM, Bidirectional\n",
    "from tensorflow.keras.models import Sequential\n",
    "from tensorflow.keras.models import load_model\n",
    "from tensorflow.keras.callbacks import EarlyStopping, ModelCheckpoint"
   ],
   "outputs": [],
   "metadata": {}
  },
  {
   "cell_type": "code",
   "execution_count": 118,
   "source": [
    "model = Sequential()\n",
    "model.add(Embedding(vocab_size, 100))\n",
    "model.add(Bidirectional(LSTM(128)))\n",
    "model.add(Dense(1, activation='sigmoid'))"
   ],
   "outputs": [],
   "metadata": {}
  },
  {
   "cell_type": "code",
   "execution_count": 119,
   "source": [
    "mc = ModelCheckpoint('BiLSTM_model.h5', monitor='val_acc', mode='max', verbose=1, save_best_only=True)"
   ],
   "outputs": [],
   "metadata": {}
  },
  {
   "cell_type": "code",
   "execution_count": 120,
   "source": [
    "model.compile(optimizer='adam', loss='binary_crossentropy', metrics=['acc'])\n",
    "history = model.fit(X_train, y_train, epochs=30, callbacks=[mc], batch_size=128, validation_split=0.2)"
   ],
   "outputs": [
    {
     "output_type": "stream",
     "name": "stdout",
     "text": [
      "Epoch 1/50\n",
      "5/5 [==============================] - 3s 285ms/step - loss: 0.6905 - acc: 0.5479 - val_loss: 0.6814 - val_acc: 0.6644\n",
      "\n",
      "Epoch 00001: val_acc improved from -inf to 0.66443, saving model to BiLSTM_model.h5\n",
      "Epoch 2/50\n",
      "5/5 [==============================] - 1s 168ms/step - loss: 0.6723 - acc: 0.6471 - val_loss: 0.6597 - val_acc: 0.6174\n",
      "\n",
      "Epoch 00002: val_acc did not improve from 0.66443\n",
      "Epoch 3/50\n",
      "5/5 [==============================] - 1s 141ms/step - loss: 0.6311 - acc: 0.6975 - val_loss: 0.6030 - val_acc: 0.6913\n",
      "\n",
      "Epoch 00003: val_acc improved from 0.66443 to 0.69128, saving model to BiLSTM_model.h5\n",
      "Epoch 4/50\n",
      "5/5 [==============================] - 1s 163ms/step - loss: 0.5707 - acc: 0.7546 - val_loss: 0.5540 - val_acc: 0.6980\n",
      "\n",
      "Epoch 00004: val_acc improved from 0.69128 to 0.69799, saving model to BiLSTM_model.h5\n",
      "Epoch 5/50\n",
      "5/5 [==============================] - 1s 168ms/step - loss: 0.4854 - acc: 0.7580 - val_loss: 0.4526 - val_acc: 0.8591\n",
      "\n",
      "Epoch 00005: val_acc improved from 0.69799 to 0.85906, saving model to BiLSTM_model.h5\n",
      "Epoch 6/50\n",
      "5/5 [==============================] - 1s 173ms/step - loss: 0.4429 - acc: 0.8471 - val_loss: 0.4050 - val_acc: 0.8255\n",
      "\n",
      "Epoch 00006: val_acc did not improve from 0.85906\n",
      "Epoch 7/50\n",
      "5/5 [==============================] - 1s 155ms/step - loss: 0.3570 - acc: 0.8639 - val_loss: 0.3462 - val_acc: 0.8523\n",
      "\n",
      "Epoch 00007: val_acc did not improve from 0.85906\n",
      "Epoch 8/50\n",
      "5/5 [==============================] - 1s 155ms/step - loss: 0.2858 - acc: 0.9076 - val_loss: 0.2657 - val_acc: 0.8993\n",
      "\n",
      "Epoch 00008: val_acc improved from 0.85906 to 0.89933, saving model to BiLSTM_model.h5\n",
      "Epoch 9/50\n",
      "5/5 [==============================] - 1s 180ms/step - loss: 0.2237 - acc: 0.9109 - val_loss: 0.2235 - val_acc: 0.9128\n",
      "\n",
      "Epoch 00009: val_acc improved from 0.89933 to 0.91275, saving model to BiLSTM_model.h5\n",
      "Epoch 10/50\n",
      "5/5 [==============================] - 1s 173ms/step - loss: 0.1746 - acc: 0.9328 - val_loss: 0.1811 - val_acc: 0.9195\n",
      "\n",
      "Epoch 00010: val_acc improved from 0.91275 to 0.91946, saving model to BiLSTM_model.h5\n",
      "Epoch 11/50\n",
      "5/5 [==============================] - 1s 219ms/step - loss: 0.2540 - acc: 0.9092 - val_loss: 0.1714 - val_acc: 0.9530\n",
      "\n",
      "Epoch 00011: val_acc improved from 0.91946 to 0.95302, saving model to BiLSTM_model.h5\n",
      "Epoch 12/50\n",
      "5/5 [==============================] - 1s 179ms/step - loss: 0.1972 - acc: 0.9345 - val_loss: 0.2037 - val_acc: 0.9463\n",
      "\n",
      "Epoch 00012: val_acc did not improve from 0.95302\n",
      "Epoch 13/50\n",
      "5/5 [==============================] - 1s 159ms/step - loss: 0.2167 - acc: 0.9176 - val_loss: 0.2296 - val_acc: 0.9195\n",
      "\n",
      "Epoch 00013: val_acc did not improve from 0.95302\n",
      "Epoch 14/50\n",
      "5/5 [==============================] - 1s 176ms/step - loss: 0.2233 - acc: 0.9092 - val_loss: 0.2413 - val_acc: 0.9128\n",
      "\n",
      "Epoch 00014: val_acc did not improve from 0.95302\n",
      "Epoch 15/50\n",
      "5/5 [==============================] - 1s 192ms/step - loss: 0.2118 - acc: 0.9244 - val_loss: 0.2365 - val_acc: 0.9128\n",
      "\n",
      "Epoch 00015: val_acc did not improve from 0.95302\n",
      "Epoch 16/50\n",
      "5/5 [==============================] - 1s 157ms/step - loss: 0.1872 - acc: 0.9429 - val_loss: 0.2174 - val_acc: 0.9128\n",
      "\n",
      "Epoch 00016: val_acc did not improve from 0.95302\n",
      "Epoch 17/50\n",
      "5/5 [==============================] - 1s 157ms/step - loss: 0.1546 - acc: 0.9563 - val_loss: 0.1860 - val_acc: 0.9329\n",
      "\n",
      "Epoch 00017: val_acc did not improve from 0.95302\n",
      "Epoch 18/50\n",
      "5/5 [==============================] - 1s 175ms/step - loss: 0.1319 - acc: 0.9647 - val_loss: 0.1684 - val_acc: 0.9463\n",
      "\n",
      "Epoch 00018: val_acc did not improve from 0.95302\n",
      "Epoch 19/50\n",
      "5/5 [==============================] - 1s 156ms/step - loss: 0.1110 - acc: 0.9664 - val_loss: 0.1822 - val_acc: 0.9060\n",
      "\n",
      "Epoch 00019: val_acc did not improve from 0.95302\n",
      "Epoch 20/50\n",
      "5/5 [==============================] - 1s 143ms/step - loss: 0.0981 - acc: 0.9731 - val_loss: 0.1777 - val_acc: 0.9060\n",
      "\n",
      "Epoch 00020: val_acc did not improve from 0.95302\n",
      "Epoch 21/50\n",
      "5/5 [==============================] - 1s 139ms/step - loss: 0.1014 - acc: 0.9681 - val_loss: 0.2016 - val_acc: 0.8993\n",
      "\n",
      "Epoch 00021: val_acc did not improve from 0.95302\n",
      "Epoch 22/50\n",
      "5/5 [==============================] - 1s 145ms/step - loss: 0.0992 - acc: 0.9748 - val_loss: 0.1883 - val_acc: 0.9195\n",
      "\n",
      "Epoch 00022: val_acc did not improve from 0.95302\n",
      "Epoch 23/50\n",
      "5/5 [==============================] - 1s 130ms/step - loss: 0.0941 - acc: 0.9748 - val_loss: 0.1800 - val_acc: 0.9396\n",
      "\n",
      "Epoch 00023: val_acc did not improve from 0.95302\n",
      "Epoch 24/50\n",
      "5/5 [==============================] - 1s 130ms/step - loss: 0.0873 - acc: 0.9782 - val_loss: 0.1756 - val_acc: 0.9396\n",
      "\n",
      "Epoch 00024: val_acc did not improve from 0.95302\n",
      "Epoch 25/50\n",
      "5/5 [==============================] - 1s 130ms/step - loss: 0.0790 - acc: 0.9815 - val_loss: 0.1717 - val_acc: 0.9396\n",
      "\n",
      "Epoch 00025: val_acc did not improve from 0.95302\n",
      "Epoch 26/50\n",
      "5/5 [==============================] - 1s 137ms/step - loss: 0.0705 - acc: 0.9849 - val_loss: 0.1683 - val_acc: 0.9262\n",
      "\n",
      "Epoch 00026: val_acc did not improve from 0.95302\n",
      "Epoch 27/50\n",
      "5/5 [==============================] - 1s 140ms/step - loss: 0.0636 - acc: 0.9899 - val_loss: 0.1652 - val_acc: 0.9195\n",
      "\n",
      "Epoch 00027: val_acc did not improve from 0.95302\n",
      "Epoch 28/50\n",
      "5/5 [==============================] - 1s 129ms/step - loss: 0.0576 - acc: 0.9899 - val_loss: 0.1626 - val_acc: 0.9195\n",
      "\n",
      "Epoch 00028: val_acc did not improve from 0.95302\n",
      "Epoch 29/50\n",
      "5/5 [==============================] - 1s 136ms/step - loss: 0.0526 - acc: 0.9916 - val_loss: 0.1617 - val_acc: 0.9128\n",
      "\n",
      "Epoch 00029: val_acc did not improve from 0.95302\n",
      "Epoch 30/50\n",
      "5/5 [==============================] - 1s 130ms/step - loss: 0.0489 - acc: 0.9933 - val_loss: 0.1601 - val_acc: 0.9128\n",
      "\n",
      "Epoch 00030: val_acc did not improve from 0.95302\n",
      "Epoch 31/50\n",
      "5/5 [==============================] - 1s 137ms/step - loss: 0.0449 - acc: 0.9933 - val_loss: 0.1589 - val_acc: 0.9128\n",
      "\n",
      "Epoch 00031: val_acc did not improve from 0.95302\n",
      "Epoch 32/50\n",
      "5/5 [==============================] - 1s 142ms/step - loss: 0.0416 - acc: 0.9933 - val_loss: 0.1570 - val_acc: 0.9195\n",
      "\n",
      "Epoch 00032: val_acc did not improve from 0.95302\n",
      "Epoch 33/50\n",
      "5/5 [==============================] - 1s 129ms/step - loss: 0.0384 - acc: 0.9950 - val_loss: 0.1557 - val_acc: 0.9195\n",
      "\n",
      "Epoch 00033: val_acc did not improve from 0.95302\n",
      "Epoch 34/50\n",
      "5/5 [==============================] - 1s 134ms/step - loss: 0.0360 - acc: 0.9950 - val_loss: 0.1543 - val_acc: 0.9195\n",
      "\n",
      "Epoch 00034: val_acc did not improve from 0.95302\n",
      "Epoch 35/50\n",
      "5/5 [==============================] - 1s 137ms/step - loss: 0.0334 - acc: 0.9950 - val_loss: 0.1540 - val_acc: 0.9195\n",
      "\n",
      "Epoch 00035: val_acc did not improve from 0.95302\n",
      "Epoch 36/50\n",
      "5/5 [==============================] - 1s 130ms/step - loss: 0.0310 - acc: 0.9950 - val_loss: 0.1541 - val_acc: 0.9396\n",
      "\n",
      "Epoch 00036: val_acc did not improve from 0.95302\n",
      "Epoch 37/50\n",
      "5/5 [==============================] - 1s 131ms/step - loss: 0.0290 - acc: 0.9966 - val_loss: 0.1545 - val_acc: 0.9396\n",
      "\n",
      "Epoch 00037: val_acc did not improve from 0.95302\n",
      "Epoch 38/50\n",
      "5/5 [==============================] - 1s 131ms/step - loss: 0.0271 - acc: 0.9966 - val_loss: 0.1546 - val_acc: 0.9396\n",
      "\n",
      "Epoch 00038: val_acc did not improve from 0.95302\n",
      "Epoch 39/50\n",
      "5/5 [==============================] - 1s 130ms/step - loss: 0.0254 - acc: 0.9966 - val_loss: 0.1543 - val_acc: 0.9396\n",
      "\n",
      "Epoch 00039: val_acc did not improve from 0.95302\n",
      "Epoch 40/50\n",
      "5/5 [==============================] - 1s 133ms/step - loss: 0.0238 - acc: 0.9966 - val_loss: 0.1537 - val_acc: 0.9329\n",
      "\n",
      "Epoch 00040: val_acc did not improve from 0.95302\n",
      "Epoch 41/50\n",
      "5/5 [==============================] - 1s 133ms/step - loss: 0.0223 - acc: 0.9966 - val_loss: 0.1539 - val_acc: 0.9329\n",
      "\n",
      "Epoch 00041: val_acc did not improve from 0.95302\n",
      "Epoch 42/50\n",
      "5/5 [==============================] - 1s 140ms/step - loss: 0.0210 - acc: 0.9966 - val_loss: 0.1541 - val_acc: 0.9329\n",
      "\n",
      "Epoch 00042: val_acc did not improve from 0.95302\n",
      "Epoch 43/50\n",
      "5/5 [==============================] - 1s 130ms/step - loss: 0.0197 - acc: 0.9966 - val_loss: 0.1544 - val_acc: 0.9329\n",
      "\n",
      "Epoch 00043: val_acc did not improve from 0.95302\n",
      "Epoch 44/50\n",
      "5/5 [==============================] - 1s 135ms/step - loss: 0.0187 - acc: 0.9966 - val_loss: 0.1549 - val_acc: 0.9396\n",
      "\n",
      "Epoch 00044: val_acc did not improve from 0.95302\n",
      "Epoch 45/50\n",
      "5/5 [==============================] - 1s 163ms/step - loss: 0.0176 - acc: 0.9966 - val_loss: 0.1549 - val_acc: 0.9329\n",
      "\n",
      "Epoch 00045: val_acc did not improve from 0.95302\n",
      "Epoch 46/50\n",
      "5/5 [==============================] - 1s 137ms/step - loss: 0.0167 - acc: 0.9966 - val_loss: 0.1552 - val_acc: 0.9329\n",
      "\n",
      "Epoch 00046: val_acc did not improve from 0.95302\n",
      "Epoch 47/50\n",
      "5/5 [==============================] - 1s 128ms/step - loss: 0.0158 - acc: 0.9966 - val_loss: 0.1556 - val_acc: 0.9463\n",
      "\n",
      "Epoch 00047: val_acc did not improve from 0.95302\n",
      "Epoch 48/50\n",
      "5/5 [==============================] - 1s 135ms/step - loss: 0.0150 - acc: 0.9966 - val_loss: 0.1562 - val_acc: 0.9463\n",
      "\n",
      "Epoch 00048: val_acc did not improve from 0.95302\n",
      "Epoch 49/50\n",
      "5/5 [==============================] - 1s 141ms/step - loss: 0.0143 - acc: 0.9966 - val_loss: 0.1571 - val_acc: 0.9463\n",
      "\n",
      "Epoch 00049: val_acc did not improve from 0.95302\n",
      "Epoch 50/50\n",
      "5/5 [==============================] - 1s 142ms/step - loss: 0.0135 - acc: 0.9966 - val_loss: 0.1579 - val_acc: 0.9530\n",
      "\n",
      "Epoch 00050: val_acc did not improve from 0.95302\n"
     ]
    }
   ],
   "metadata": {}
  },
  {
   "cell_type": "code",
   "execution_count": 121,
   "source": [
    "loaded_model = load_model('BiLSTM_model.h5')\n",
    "print(\"\\n 테스트 정확도: %.4f\" % (loaded_model.evaluate(X_test, y_test)[1]))"
   ],
   "outputs": [
    {
     "output_type": "stream",
     "name": "stdout",
     "text": [
      "8/8 [==============================] - 1s 16ms/step - loss: 0.4076 - acc: 0.8394\n",
      "\n",
      " 테스트 정확도: 0.8394\n"
     ]
    }
   ],
   "metadata": {}
  },
  {
   "cell_type": "code",
   "execution_count": 122,
   "source": [
    "plt.plot(history.history['acc'])\n",
    "plt.plot(history.history['val_acc'])\n",
    "plt.title('Model accuracy')\n",
    "plt.xlabel('Epoch')\n",
    "plt.legend(['X_Train','X_test'], loc='upper left')\n",
    "plt.show()"
   ],
   "outputs": [
    {
     "output_type": "display_data",
     "data": {
      "text/plain": [
       "<Figure size 432x288 with 1 Axes>"
      ],
      "image/png": "[encoded data removed]"
     },
     "metadata": {
      "needs_background": "light"
     }
    }
   ],
   "metadata": {}
  },
  {
   "cell_type": "code",
   "execution_count": 123,
   "source": [
    "def sentiment_predict(new_sentence):\n",
    "  new_sentence = mecab.morphs(new_sentence) # 토큰화\n",
    "  new_sentence = [word for word in new_sentence if not word in stopwords] # 불용어 제거\n",
    "  encoded = tokenizer.texts_to_sequences([new_sentence]) # 정수 인코딩\n",
    "  pad_new = pad_sequences(encoded, maxlen = max_len) # 패딩\n",
    "  score = float(loaded_model.predict(pad_new)) # 예측\n",
    "  if(score > 0.5):\n",
    "    print(\"{:.2f}% 확률로 불만 리뷰입니다.\".format(score * 100))\n",
    "  else:\n",
    "    print(\"{:.2f}% 확률로 칭찬 리뷰입니다.\".format((1 - score) * 100))"
   ],
   "outputs": [],
   "metadata": {}
  },
  {
   "cell_type": "code",
   "execution_count": 124,
   "source": [
    "sentiment_predict('고마워요')\n",
    "sentiment_predict('다른 카드사보다 좋아요')\n",
    "sentiment_predict('친절에 감사')\n",
    "sentiment_predict('친절한 언냐 감사합니다.')\n",
    "sentiment_predict('1등 기업인만큼 우수하다 생각함.')"
   ],
   "outputs": [
    {
     "output_type": "stream",
     "name": "stdout",
     "text": [
      "56.24% 확률로 불만 리뷰입니다.\n",
      "72.04% 확률로 칭찬 리뷰입니다.\n",
      "73.79% 확률로 칭찬 리뷰입니다.\n",
      "91.21% 확률로 칭찬 리뷰입니다.\n",
      "79.97% 확률로 불만 리뷰입니다.\n"
     ]
    }
   ],
   "metadata": {}
  },
  {
   "cell_type": "code",
   "execution_count": 125,
   "source": [
    "sentiment_predict('직원이 퉁명스러움')\n",
    "sentiment_predict('성의없는 답변')\n",
    "sentiment_predict('더욱 친절하게 대해주세요')\n",
    "sentiment_predict('통화 대기시간이 너무 길다.')\n",
    "sentiment_predict('무이자에 대한 혜택이 더 많았으면 좋겠음')"
   ],
   "outputs": [
    {
     "output_type": "stream",
     "name": "stdout",
     "text": [
      "89.34% 확률로 불만 리뷰입니다.\n",
      "88.42% 확률로 불만 리뷰입니다.\n",
      "62.84% 확률로 불만 리뷰입니다.\n",
      "99.01% 확률로 불만 리뷰입니다.\n",
      "99.16% 확률로 불만 리뷰입니다.\n"
     ]
    }
   ],
   "metadata": {}
  },
  {
   "cell_type": "code",
   "execution_count": 126,
   "source": [
    "sentiment_predict('터시식 화면')\n",
    "sentiment_predict('보이는 화면')\n",
    "sentiment_predict('화면연결')\n",
    "sentiment_predict('바로보는 화면 서비스')"
   ],
   "outputs": [
    {
     "output_type": "stream",
     "name": "stdout",
     "text": [
      "81.83% 확률로 불만 리뷰입니다.\n",
      "81.38% 확률로 불만 리뷰입니다.\n",
      "85.66% 확률로 불만 리뷰입니다.\n",
      "76.92% 확률로 불만 리뷰입니다.\n"
     ]
    }
   ],
   "metadata": {}
  },
  {
   "cell_type": "code",
   "execution_count": null,
   "source": [],
   "outputs": [],
   "metadata": {}
  }
 ],
 "metadata": {
  "orig_nbformat": 4,
  "language_info": {
   "name": "python",
   "version": "3.9.5",
   "mimetype": "text/x-python",
   "codemirror_mode": {
    "name": "ipython",
    "version": 3
   },
   "pygments_lexer": "ipython3",
   "nbconvert_exporter": "python",
   "file_extension": ".py"
  },
  "kernelspec": {
   "name": "python3",
   "display_name": "Python 3.9.5 64-bit ('nlp': conda)"
  },
  "interpreter": {
   "hash": "316381855bd1ee188fc643bedc39971b082b287c037e3950867854c4ea84ccc6"
  }
 },
 "nbformat": 4,
 "nbformat_minor": 2
}